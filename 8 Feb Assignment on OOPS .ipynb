{
 "cells": [
  {
   "cell_type": "code",
   "execution_count": null,
   "id": "1f9a6692-53f4-4cca-81d4-7f7caeb50b25",
   "metadata": {},
   "outputs": [],
   "source": [
    "#Q-1:\n",
    "In object-oriented programming (OOP), abstraction is a \n",
    "fundamental concept that focuses on representing essential \n",
    "features and behaviors of real-world objects in a simplified \n",
    "and generalized manner. It allows us to create abstract models \n",
    "that hide complex implementation details and emphasize only the\n",
    "relevant information.\n",
    "\n",
    "Abstraction is achieved through the use of abstract classes and\n",
    "interfaces. An abstract class is a class that cannot be instantiated\n",
    "and serves as a blueprint for derived classes. It can contain both abstract \n",
    "and non-abstract methods. Abstract methods are declared but do not \n",
    "have an implementation in the abstract class. They must be overridden by the derived classes.\n",
    "\n"
   ]
  },
  {
   "cell_type": "code",
   "execution_count": null,
   "id": "9e853d4b-381f-495f-ae86-b60d075d40c1",
   "metadata": {},
   "outputs": [],
   "source": [
    "#Q-2:\n",
    "Abstraction and encapsulation are two important concepts in object-oriented programming, \n",
    "but they serve different purposes.\n",
    "\n",
    "Abstraction focuses on representing essential features and behaviors of real-world objects \n",
    "in a simplified and generalized manner, hiding unnecessary details. It allows us to create \n",
    "abstract models that emphasize only the relevant information. Abstraction is achieved through \n",
    "the use of abstract classes and interfaces.\n",
    "\n",
    "Encapsulation, on the other hand, is about bundling data and methods together within a class \n",
    "and controlling access to them. It ensures that the internal state of an object is hidden from\n",
    "the outside and can only be accessed through a defined interface. Encapsulation helps in achieving\n",
    "data hiding and modularizing the code."
   ]
  },
  {
   "cell_type": "code",
   "execution_count": null,
   "id": "613d70ba-a55f-4d5e-a3be-a2a81cffc9c4",
   "metadata": {},
   "outputs": [],
   "source": [
    "#Q-3:\n",
    "The \"abc\" module in Python stands for \"Abstract Base Classes.\" \n",
    "It provides a way to define abstract classes in Python, which are \n",
    "classes that cannot be instantiated directly but serve as a blueprint for derived classes.\n",
    "\n",
    "Abstract base classes (ABCs) are useful when you want to define a common \n",
    "interface that derived classes should implement. They allow you to enforce\n",
    "a contract or a set of methods that derived classes must provide. This helps \n",
    "in achieving code consistency, modularity, and design patterns such as the \n",
    "Template Method Pattern or the Strategy Pattern."
   ]
  },
  {
   "cell_type": "code",
   "execution_count": null,
   "id": "5f3ef939-d389-4539-8536-633638eb7d1c",
   "metadata": {},
   "outputs": [],
   "source": [
    "#Q-4:\n",
    "In Python, data abstraction can be achieved through the use of classes \n",
    "and access modifiers. By using classes, you can define attributes (data)\n",
    "and methods (behavior) that represent the essential features of an object\n",
    "while abstracting away the underlying implementation details.\n",
    "\n",
    "Access modifiers help in controlling the visibility and accessibility of \n",
    "attributes and methods, allowing you to hide the internal representation of \n",
    "an object and provide a controlled interface to interact with it."
   ]
  },
  {
   "cell_type": "code",
   "execution_count": null,
   "id": "74f5fd50-b88e-462b-872f-6176651edb5f",
   "metadata": {},
   "outputs": [],
   "source": [
    "#Q-5:\n",
    "from abc import ABC, abstractmethod\n",
    "\n",
    "# Abstract Base Class\n",
    "class Shape(ABC):\n",
    "    @abstractmethod\n",
    "    def draw(self):\n",
    "        pass\n",
    "\n",
    "# Derived class\n",
    "class Circle(Shape):\n",
    "    def draw(self):\n",
    "        print(\"Drawing a circle.\")\n",
    "\n",
    "# Creating an instance of the derived class\n",
    "circle = Circle()\n",
    "circle.draw()  # Output: Drawing a circle.\n",
    "In Python, you cannot create an instance of an abstract class directly. Abstract classes are designed to serve as blueprints for derived classes and cannot be instantiated on their own. However, you can create instances of derived classes that inherit from the abstract class.\n",
    "\n",
    "Here's an example to illustrate this concept:"
   ]
  }
 ],
 "metadata": {
  "kernelspec": {
   "display_name": "Python 3 (ipykernel)",
   "language": "python",
   "name": "python3"
  },
  "language_info": {
   "codemirror_mode": {
    "name": "ipython",
    "version": 3
   },
   "file_extension": ".py",
   "mimetype": "text/x-python",
   "name": "python",
   "nbconvert_exporter": "python",
   "pygments_lexer": "ipython3",
   "version": "3.10.8"
  }
 },
 "nbformat": 4,
 "nbformat_minor": 5
}
